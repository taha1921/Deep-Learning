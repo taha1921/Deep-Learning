{
  "nbformat": 4,
  "nbformat_minor": 0,
  "metadata": {
    "kernelspec": {
      "name": "python3",
      "display_name": "Python 3"
    },
    "language_info": {
      "codemirror_mode": {
        "name": "ipython",
        "version": 3
      },
      "file_extension": ".py",
      "mimetype": "text/x-python",
      "name": "python",
      "nbconvert_exporter": "python",
      "pygments_lexer": "ipython3",
      "version": "3.6.10"
    },
    "toc": {
      "base_numbering": 1,
      "nav_menu": {},
      "number_sections": true,
      "sideBar": true,
      "skip_h1_title": false,
      "title_cell": "Table of Contents",
      "title_sidebar": "Contents",
      "toc_cell": false,
      "toc_position": {},
      "toc_section_display": true,
      "toc_window_display": false
    },
    "colab": {
      "name": "20100040_PA3_PartB.ipynb",
      "provenance": [],
      "collapsed_sections": [
        "85Jx9ZP-Y4te",
        "T_zrwfqzY4uG"
      ]
    },
    "accelerator": "GPU"
  },
  "cells": [
    {
      "cell_type": "markdown",
      "metadata": {
        "id": "62gm1aruY4p7",
        "colab_type": "text"
      },
      "source": [
        "# Homework 3  - Part B\n",
        "\n",
        "\n",
        "###### Roll Number: 20100040"
      ]
    },
    {
      "cell_type": "markdown",
      "metadata": {
        "id": "QuAVed4JY4p-",
        "colab_type": "text"
      },
      "source": [
        "We'll start Part B by taking out a minute to thank creators of Tensorflow and Keras for making our lives easier. The goal of this home work is to design a convolutional neural network to classify images from CIFAR-10. CIFAR-10 is a subset of CIFAR-100 with 10 and 100 being number of classes. They were collected by Alex Krizhevsky, Vinod Nair, and Geoffrey Hinton. We'll be building small CNNs using Keras to solve this classification task.\n",
        "<br>\n",
        "\n",
        "Please note:\n",
        "- You have to save each trained model weights and tensorboard logs in different folder. Use proper names for the model\n",
        "- You have to show trainings in this notebook file, so make sure that the printings and figures are available on this notebook file\n",
        "- This notebook is also your report file. So add your comments and analysis of each task. Your comments and analysis are as important as your code. This would be considered short report and it is compulsory part of the homework.\n",
        "- Your system memory may overflow. In that case, please reset memory for trained model(s) keeping printed logs and history of trained model. History of all trained models could be used to plot the trends.\n",
        "- For trends you shall also use tensorboard logs "
      ]
    },
    {
      "cell_type": "markdown",
      "metadata": {
        "id": "3TppQNCAY4qA",
        "colab_type": "text"
      },
      "source": [
        "### Imports"
      ]
    },
    {
      "cell_type": "code",
      "metadata": {
        "id": "DnbqWdPMaRxh",
        "colab_type": "code",
        "colab": {}
      },
      "source": [
        "!pip install tensorflow-gpu==1.14"
      ],
      "execution_count": 0,
      "outputs": []
    },
    {
      "cell_type": "code",
      "metadata": {
        "id": "JbeADGwVY4qB",
        "colab_type": "code",
        "colab": {}
      },
      "source": [
        "import keras\n",
        "from keras.models import Model\n",
        "from keras.layers import Dense, Input, Conv2D, MaxPooling2D, Dropout, Flatten, BatchNormalization\n",
        "from keras.optimizers import Adam\n",
        "from keras.callbacks import ModelCheckpoint, EarlyStopping, CSVLogger, ReduceLROnPlateau, TensorBoard\n",
        "from keras.utils import plot_model, to_categorical\n",
        "import keras.backend as K\n",
        "\n",
        "from sklearn.model_selection import train_test_split\n",
        "from IPython.display import display\n",
        "\n",
        "import cv2\n",
        "import numpy as np\n",
        "import pandas as pd\n",
        "%matplotlib inline\n",
        "import matplotlib.pyplot as plt\n",
        "plt.style.use('seaborn')\n",
        "\n",
        "import os\n",
        "import glob\n",
        "your_id = 20100040\n",
        "np.random.seed(your_id)"
      ],
      "execution_count": 0,
      "outputs": []
    },
    {
      "cell_type": "code",
      "metadata": {
        "id": "MdqSvnj_iEgZ",
        "colab_type": "code",
        "colab": {}
      },
      "source": [
        "from google.colab import drive\n",
        "drive.mount('/content/drive')"
      ],
      "execution_count": 0,
      "outputs": []
    },
    {
      "cell_type": "code",
      "metadata": {
        "id": "iTvYbosLitlC",
        "colab_type": "code",
        "colab": {}
      },
      "source": [
        "!unzip -uq \"/content/drive/My Drive/DeepLearning HW_3/cifar.zip\" -d \"./images\""
      ],
      "execution_count": 0,
      "outputs": []
    },
    {
      "cell_type": "markdown",
      "metadata": {
        "heading_collapsed": true,
        "id": "v6Qd5i4XY4qG",
        "colab_type": "text"
      },
      "source": [
        "###### Hyperparameters"
      ]
    },
    {
      "cell_type": "code",
      "metadata": {
        "hidden": true,
        "id": "HK_XA8ziY4qH",
        "colab_type": "code",
        "colab": {}
      },
      "source": [
        "batch_size = 64\n",
        "num_classes = 10\n",
        "class_labels = np.arange(0, num_classes, 1)\n",
        "input_shape_cifar = (32,32,3)\n",
        "images_dir = './images/cifar/'\n",
        "epochs = 25\n",
        "all_histories = []"
      ],
      "execution_count": 0,
      "outputs": []
    },
    {
      "cell_type": "markdown",
      "metadata": {
        "id": "ZLN6fuAEY4qM",
        "colab_type": "text"
      },
      "source": [
        "### Task 1.1   Load dataset information\n",
        "Download the [CIFAR-10 Dataset](https://drive.google.com/drive/folders/1FPsts3C2tJMVQ1xcCi2XZdb2z_J2OjSr?usp=sharing) and setup your working directory. Be sure to put the dataset in the <code>images_dir</code> directory. We won't be loading images and will only store the file paths in memory. These file paths will be used to load and return batch of images in our generator. Feel free to explore the dataset in this section."
      ]
    },
    {
      "cell_type": "code",
      "metadata": {
        "id": "YjlhPFovY4qN",
        "colab_type": "code",
        "outputId": "58469ce8-e51c-457b-c626-34e4b83d4327",
        "colab": {
          "base_uri": "https://localhost:8080/",
          "height": 85
        }
      },
      "source": [
        "train_dir = images_dir + 'train/'\n",
        "test_dir = images_dir + 'test/'\n",
        "label_dir = images_dir + 'labels.txt'\n",
        "# files = glob('./images/train/**/*.jpgs')\n",
        "# Use either os.listdir or glob to generate an array of file paths for training and testing data (I would recommend using glob)\n",
        "train_files = np.array([f for f in glob.glob(train_dir + \"**/*.png\", recursive=True)])\n",
        "test_data = np.array([f for f in glob.glob(test_dir + \"**/*png\", recursive=True)])\n",
        "\n",
        "\n",
        "# Use labels.txt to store labels in an array/dict (NOTE: The line number corresponds to the actual label)\n",
        "classes = []\n",
        "with open(label_dir) as f:\n",
        "  classes = f.read().split()\n",
        "\n",
        "Labels = {}\n",
        "for i in range(len(classes)):\n",
        "    Labels[classes[i]] = i\n",
        "# Use sci-kit learn's train_test_split method to generate a validation dataset from the training dataset\n",
        "train_data, val_data = train_test_split(train_files, test_size=0.2, random_state=1)\n",
        "\n",
        "print(len(train_data), \"train samples\")\n",
        "print(len(val_data), \"validation samples\") \n",
        "print(len(test_data), \"test samples\") \n",
        "print(Labels)\n"
      ],
      "execution_count": 0,
      "outputs": [
        {
          "output_type": "stream",
          "text": [
            "40000 train samples\n",
            "10000 validation samples\n",
            "10000 test samples\n",
            "{'airplane': 0, 'automobile': 1, 'bird': 2, 'cat': 3, 'deer': 4, 'dog': 5, 'frog': 6, 'horse': 7, 'ship': 8, 'truck': 9}\n"
          ],
          "name": "stdout"
        }
      ]
    },
    {
      "cell_type": "markdown",
      "metadata": {
        "heading_collapsed": true,
        "id": "qMC_NB-1Y4qS",
        "colab_type": "text"
      },
      "source": [
        "### Task 1.2 Preprocessing\n",
        "Preprocessing of data such as normalization, mean shift, make the learning task simple for network and could accelerate the training process. "
      ]
    },
    {
      "cell_type": "markdown",
      "metadata": {
        "heading_collapsed": true,
        "hidden": true,
        "id": "-2GsM_9IY4qU",
        "colab_type": "text"
      },
      "source": [
        "###### Task 1.2.1 \n",
        "In images, pixel values range from 0 to 255. To shift the values between (0,1) range, divide input image by 255."
      ]
    },
    {
      "cell_type": "code",
      "metadata": {
        "hidden": true,
        "id": "9Af-ph50Y4qV",
        "colab_type": "code",
        "colab": {}
      },
      "source": [
        "def preprocessing_norm (images):\n",
        "    images = images.astype('float')\n",
        "    images /= 255.0\n",
        "    return images"
      ],
      "execution_count": 0,
      "outputs": []
    },
    {
      "cell_type": "markdown",
      "metadata": {
        "heading_collapsed": true,
        "hidden": true,
        "id": "0i3qjP_XY4qZ",
        "colab_type": "text"
      },
      "source": [
        "###### Task 1.2.2\n",
        "Compute the channel-wise mean and standard deviation (std). Subtract channel-wise mean and divide by channel-wise std. This will shift the mean to zero and variation to 1 for each channel. "
      ]
    },
    {
      "cell_type": "code",
      "metadata": {
        "hidden": true,
        "id": "Yzvh8dqPY4qa",
        "colab_type": "code",
        "colab": {}
      },
      "source": [
        "def preprocessing_meanShift (images):\n",
        "    images = images.astype('float')\n",
        "    channels = ['R', 'G', 'B']\n",
        "    for channel in range(len(channels)):\n",
        "        mean = np.mean(images[:,:,channel])\n",
        "        std = np.std(images[:,:,channel])\n",
        "        images[:,:,channel] = (images[:,:,channel] - mean)/std\n",
        "    return images"
      ],
      "execution_count": 0,
      "outputs": []
    },
    {
      "cell_type": "markdown",
      "metadata": {
        "heading_collapsed": true,
        "id": "9RaGjq2aY4qg",
        "colab_type": "text"
      },
      "source": [
        "### Task 1.3  Batch Generator\n",
        "Previously, when training our models, we were loading the complete data in memory to fit our model. However, in practice we're working with very large datasets which cannot be loaded all at once in memory. As a solution, we use \"Data Generators\" which are essentially python generators that load batches of data from disk into memory and pass into our models. In order to achieve this, we only store filepaths that point to training/test samples in our dataset in memory. A data generator yields a tuple of (Xs,Ys) whenever the generator is used via the next() function. Implementation of a data generator is open ended, you can add whatever arguments you find necessary in addition to the ones provided."
      ]
    },
    {
      "cell_type": "code",
      "metadata": {
        "hidden": true,
        "id": "9lkfZVKvY4qh",
        "colab_type": "code",
        "colab": {}
      },
      "source": [
        "def get_image(path):\n",
        "    return cv2.cvtColor(cv2.imread(path), cv2.COLOR_BGR2RGB)\n",
        "\n",
        "def extract_label(path):\n",
        "    return Labels[(path.split('_'))[1].split('.')[0]]\n",
        "\n",
        "def data_generator( paths , batch_size = 32, preprocessing = None):\n",
        "    \n",
        "    start_indices = np.arange(0, len(paths), batch_size)\n",
        "    if len(paths) % batch_size != 0:\n",
        "        start_indices = start_indices[:-1]\n",
        "\n",
        "    while True:\n",
        "        np.random.shuffle(start_indices)\n",
        "        for index in start_indices:\n",
        "            batch_paths = paths[index:index+batch_size]\n",
        "            X_input = np.array([get_image(path) for path in batch_paths])\n",
        "            Y_output = np.array([extract_label(path) for path in batch_paths])\n",
        "            if(preprocessing == 'norm'):\n",
        "                X_input = preprocessing_norm(X_input)\n",
        "            elif(preprocessing == 'meanShift'):\n",
        "                X_input = preprocessing_meanShift(X_input)\n",
        "\n",
        "            yield X_input, to_categorical(Y_output, num_classes=len(classes), dtype='int')   \n",
        "\n"
      ],
      "execution_count": 0,
      "outputs": []
    },
    {
      "cell_type": "markdown",
      "metadata": {
        "id": "i3aFkSLbY4qk",
        "colab_type": "text"
      },
      "source": [
        "### Task 1.4 Design CNN model\n",
        "**IMPORTANT**: For each model you create, you need to conduct analysis in a markdown cell below the code cell containing the model's training. Your analysis should include plots, comments on its accuracy/loss, etc. Try to predict images and see what images your model is correctly classifying, see if your model is overfitting or not. For each layer you add, specify its function and then comment on its results."
      ]
    },
    {
      "cell_type": "code",
      "metadata": {
        "id": "cirCezNeY4qm",
        "colab_type": "code",
        "colab": {}
      },
      "source": [
        "# Design a CNN to predict classes for the images in the dataset. Try to keep your network shallow since you'll be training your model on your PC as well.\n",
        "input_img = Input(shape=(input_shape_cifar), name='input_img')\n",
        "hidden1 = Conv2D(32, kernel_size=(3,3), activation='relu', strides=(2,2))(input_img) # extract low level features\n",
        "hidden2 = Conv2D(64, kernel_size=(3,3), activation='relu', strides=(2,2))(hidden1) # extract deeper features\n",
        "hidden3 = Conv2D(64, kernel_size=(3,3), activation='relu', strides=(2,2))(hidden2) # extract deeper features\n",
        "flatten = Flatten()(hidden3)\n",
        "output1 = Dense(64, activation='relu')(flatten)\n",
        "output = Dense(num_classes, activation='softmax')(output1)\n",
        "model_initial = Model(inputs=input_img, outputs=output)"
      ],
      "execution_count": 0,
      "outputs": []
    },
    {
      "cell_type": "markdown",
      "metadata": {
        "heading_collapsed": true,
        "id": "P0jJui2-Y4qq",
        "colab_type": "text"
      },
      "source": [
        "#### Compile model and plot"
      ]
    },
    {
      "cell_type": "code",
      "metadata": {
        "hidden": true,
        "id": "YqMW_jt6Y4qr",
        "colab_type": "code",
        "colab": {}
      },
      "source": [
        "model_name = 'base_model'\n",
        "\n",
        "if not os.path.exists('./'+model_name):\n",
        "    os.mkdir(model_name)\n",
        "   "
      ],
      "execution_count": 0,
      "outputs": []
    },
    {
      "cell_type": "code",
      "metadata": {
        "hidden": true,
        "id": "RNRzmGJiY4qv",
        "colab_type": "code",
        "colab": {}
      },
      "source": [
        " # You may tweak the learning rate\n",
        "adam = Adam(lr=0.001)\n",
        "\n",
        "# Use the appropriate loss function and compile the model\n",
        "model_initial.compile(loss='categorical_crossentropy', \n",
        "              optimizer=adam, \n",
        "              metrics=['accuracy'])"
      ],
      "execution_count": 0,
      "outputs": []
    },
    {
      "cell_type": "code",
      "metadata": {
        "hidden": true,
        "id": "IspVqhIFY4qz",
        "colab_type": "code",
        "colab": {}
      },
      "source": [
        "plot_model(model_initial, model_name+'/'+model_name+'.png')"
      ],
      "execution_count": 0,
      "outputs": []
    },
    {
      "cell_type": "code",
      "metadata": {
        "hidden": true,
        "id": "xm5LQRS0Y4q4",
        "colab_type": "code",
        "outputId": "5d309b80-15a5-4f9c-b3a0-3d31f6596468",
        "colab": {
          "base_uri": "https://localhost:8080/",
          "height": 391
        }
      },
      "source": [
        "model_initial.summary()"
      ],
      "execution_count": 0,
      "outputs": [
        {
          "output_type": "stream",
          "text": [
            "Model: \"model_33\"\n",
            "_________________________________________________________________\n",
            "Layer (type)                 Output Shape              Param #   \n",
            "=================================================================\n",
            "input_img (InputLayer)       (None, 32, 32, 3)         0         \n",
            "_________________________________________________________________\n",
            "conv2d_85 (Conv2D)           (None, 15, 15, 32)        896       \n",
            "_________________________________________________________________\n",
            "conv2d_86 (Conv2D)           (None, 7, 7, 64)          18496     \n",
            "_________________________________________________________________\n",
            "conv2d_87 (Conv2D)           (None, 3, 3, 64)          36928     \n",
            "_________________________________________________________________\n",
            "flatten_33 (Flatten)         (None, 576)               0         \n",
            "_________________________________________________________________\n",
            "dense_65 (Dense)             (None, 64)                36928     \n",
            "_________________________________________________________________\n",
            "dense_66 (Dense)             (None, 10)                650       \n",
            "=================================================================\n",
            "Total params: 93,898\n",
            "Trainable params: 93,898\n",
            "Non-trainable params: 0\n",
            "_________________________________________________________________\n"
          ],
          "name": "stdout"
        }
      ]
    },
    {
      "cell_type": "markdown",
      "metadata": {
        "id": "eGHumHcCY4q9",
        "colab_type": "text"
      },
      "source": [
        "#### Task 1.5 Training model\n",
        "In order to train the model, instead of \"model.fit\" function, we will use the \"model.fit_generator\" function for training. For details check out [keras documentation](https://keras.io/models/sequential/)"
      ]
    },
    {
      "cell_type": "code",
      "metadata": {
        "id": "N6qG4pFfY4q_",
        "colab_type": "code",
        "colab": {}
      },
      "source": [
        "class LRTensorBoard(TensorBoard):\n",
        "    def __init__(self, *args, **kwargs):\n",
        "        super(LRTensorBoard, self).__init__(*args, **kwargs)\n",
        "\n",
        "    def on_epoch_end(self, epoch, logs=None):\n",
        "        logs.update({'lr': K.eval(self.model.optimizer.lr)})\n",
        "        super(LRTensorBoard, self).on_epoch_end(epoch, logs)"
      ],
      "execution_count": 0,
      "outputs": []
    },
    {
      "cell_type": "code",
      "metadata": {
        "id": "PmeMyYr6Y4rE",
        "colab_type": "code",
        "colab": {}
      },
      "source": [
        "# Add the following callbacks to your Model: ModelCheckpoin, CSVLogger, ReduceLROnPlateau. The callback for Tensorboard has already been provided to you.\n",
        "checkpoint = ModelCheckpoint(model_name+'/'+model_name+'.h5', monitor='val_loss', verbose=1, \n",
        "                             save_best_only=True, mode='auto')\n",
        "csvlogger = CSVLogger(model_name+'/logs.csv', separator=',', append=True)\n",
        "reducelr = ReduceLROnPlateau(monitor='val_loss', factor=0.2, patience=5, min_lr=0.001)\n",
        "tensorboard = LRTensorBoard(log_dir='./'+model_name, histogram_freq=0, write_graph=True, write_grads=1, \n",
        "                            batch_size=batch_size, write_images=True)\n",
        "\n",
        "callbacks = [checkpoint, csvlogger, reducelr, tensorboard]"
      ],
      "execution_count": 0,
      "outputs": []
    },
    {
      "cell_type": "markdown",
      "metadata": {
        "heading_collapsed": true,
        "id": "UTcB7eIlY4rI",
        "colab_type": "text"
      },
      "source": [
        "#### Task 1.5.1 \n",
        "Train model without using any pre-processing scheme"
      ]
    },
    {
      "cell_type": "code",
      "metadata": {
        "hidden": true,
        "id": "sYSHuDAWY4rJ",
        "colab_type": "code",
        "colab": {}
      },
      "source": [
        "# Create three generators: For training your model, for validation, for testing.\n",
        "train_initial = data_generator(train_data, batch_size)\n",
        "val_initial = data_generator(val_data, batch_size)\n",
        "test_initial = data_generator(test_data, batch_size)\n"
      ],
      "execution_count": 0,
      "outputs": []
    },
    {
      "cell_type": "code",
      "metadata": {
        "hidden": true,
        "scrolled": true,
        "id": "0Ueqzgp3Y4rO",
        "colab_type": "code",
        "colab": {}
      },
      "source": [
        "# Start training your model here\n",
        "hist_initial = model_initial.fit_generator(generator=train_initial, steps_per_epoch=int(len(train_data)/batch_size), \n",
        "                                           epochs=epochs, callbacks=callbacks, validation_data=val_initial,\n",
        "                                           validation_steps = int(len(val_data)/batch_size), validation_freq=1)\n",
        "\n",
        "all_histories.append(hist_initial)"
      ],
      "execution_count": 0,
      "outputs": []
    },
    {
      "cell_type": "markdown",
      "metadata": {
        "id": "MEYN-hV5VgGa",
        "colab_type": "text"
      },
      "source": [
        "#### Base Model Analysis ####\n",
        "\n",
        "The architechture of the base model was inpired by [This article](https://towardsdatascience.com/a-guide-to-an-efficient-way-to-build-neural-network-architectures-part-ii-hyper-parameter-42efca01e5d7). However several hyperparamets were varied in it's construction\n",
        "\n",
        "1. Number of filters used: The number of filters varied a lot. I tested out filter numbers of [5, 8, 10, 20, 30, 32 and 64]. During this testing, i found that in a single layered convolution, a small filter size yeilded the best accuracy (~60%)\n",
        "\n",
        "2. Number of layers used: The motivation behind using multiple convolution layers for the network was to learn several local low level features in early stages, and combine them into complex features in deeper layers. I started out with a combination of 2 layers with 5 x 10 filters, then 8 x 16, 10 x 20, and then 32 x 64. From my testing 10 x 20 gave the best accuracy (~74%). Following this I used a 3 layer network as mentioned in the article with a combination of 32 x 32 x 64 filters. This was a slightly overfitted network as it gave us an accuracy of 90% but the highest validation loss yet. \n",
        "\n",
        "3. Strides, kernal size and Padding: Due to the small size of the image, strides and kernal size were kept small and no padding was added as the borders of the images did not contain as much useful information as the centers"
      ]
    },
    {
      "cell_type": "markdown",
      "metadata": {
        "heading_collapsed": true,
        "id": "l4-OLtaHY4rR",
        "colab_type": "text"
      },
      "source": [
        "#### Task 1.5.2 \n",
        "Train model by using data preprocessing i.e normalization or mean shift. "
      ]
    },
    {
      "cell_type": "code",
      "metadata": {
        "hidden": true,
        "id": "X_Te760kY4rS",
        "colab_type": "code",
        "colab": {}
      },
      "source": [
        "input_img = Input(shape=(input_shape_cifar), name='input_img')\n",
        "hidden1 = Conv2D(32, kernel_size=(3,3), activation='relu', strides=(2,2))(input_img) # extract low level features\n",
        "hidden2 = Conv2D(64, kernel_size=(3,3), activation='relu', strides=(2,2))(hidden1) # extract deeper features\n",
        "hidden3 = Conv2D(64, kernel_size=(3,3), activation='relu', strides=(2,2))(hidden2) # extract deeper features\n",
        "flatten = Flatten()(hidden3)\n",
        "output1 = Dense(50, activation='relu')(flatten)\n",
        "output = Dense(num_classes, activation='softmax')(output1)\n",
        "model_preprocessed = Model(inputs=input_img, outputs=output)"
      ],
      "execution_count": 0,
      "outputs": []
    },
    {
      "cell_type": "code",
      "metadata": {
        "hidden": true,
        "id": "JbewwKiqY4rW",
        "colab_type": "code",
        "colab": {}
      },
      "source": [
        "model_name = 'preprocessed_model'\n",
        "\n",
        "if not os.path.exists('./'+model_name):\n",
        "    os.mkdir(model_name)\n",
        "    "
      ],
      "execution_count": 0,
      "outputs": []
    },
    {
      "cell_type": "code",
      "metadata": {
        "hidden": true,
        "id": "ZlXP9L_GY4rg",
        "colab_type": "code",
        "colab": {}
      },
      "source": [
        "# You may tweak this Learning Rate\n",
        "adam = Adam(lr=0.001)\n",
        "\n",
        "# Compile your model using an appropriate loss\n",
        "model_preprocessed.compile(loss='categorical_crossentropy', \n",
        "              optimizer=adam, \n",
        "              metrics=['accuracy'])"
      ],
      "execution_count": 0,
      "outputs": []
    },
    {
      "cell_type": "code",
      "metadata": {
        "hidden": true,
        "id": "hQ-rGv-iY4rr",
        "colab_type": "code",
        "colab": {}
      },
      "source": [
        "plot_model(model_preprocessed, model_name+'/'+model_name+'.png')"
      ],
      "execution_count": 0,
      "outputs": []
    },
    {
      "cell_type": "code",
      "metadata": {
        "hidden": true,
        "id": "vmpEI92IY4ry",
        "colab_type": "code",
        "outputId": "c5751008-a3a5-4c21-d745-53da18b26565",
        "colab": {
          "base_uri": "https://localhost:8080/",
          "height": 391
        }
      },
      "source": [
        "model_preprocessed.summary()"
      ],
      "execution_count": 0,
      "outputs": [
        {
          "output_type": "stream",
          "text": [
            "Model: \"model_34\"\n",
            "_________________________________________________________________\n",
            "Layer (type)                 Output Shape              Param #   \n",
            "=================================================================\n",
            "input_img (InputLayer)       (None, 32, 32, 3)         0         \n",
            "_________________________________________________________________\n",
            "conv2d_88 (Conv2D)           (None, 15, 15, 32)        896       \n",
            "_________________________________________________________________\n",
            "conv2d_89 (Conv2D)           (None, 7, 7, 64)          18496     \n",
            "_________________________________________________________________\n",
            "conv2d_90 (Conv2D)           (None, 3, 3, 64)          36928     \n",
            "_________________________________________________________________\n",
            "flatten_34 (Flatten)         (None, 576)               0         \n",
            "_________________________________________________________________\n",
            "dense_67 (Dense)             (None, 50)                28850     \n",
            "_________________________________________________________________\n",
            "dense_68 (Dense)             (None, 10)                510       \n",
            "=================================================================\n",
            "Total params: 85,680\n",
            "Trainable params: 85,680\n",
            "Non-trainable params: 0\n",
            "_________________________________________________________________\n"
          ],
          "name": "stdout"
        }
      ]
    },
    {
      "cell_type": "code",
      "metadata": {
        "hidden": true,
        "id": "GfJ6XJUsY4r1",
        "colab_type": "code",
        "colab": {}
      },
      "source": [
        "# Add the following callbacks: ModelCheckpoint, CSVLogger. The callback for tensorboard has been provided to you.\n",
        "checkpoint = ModelCheckpoint(model_name+'/'+model_name+'.h5', monitor='val_loss', verbose=1, \n",
        "                             save_best_only=True, mode='auto')\n",
        "csvlogger = CSVLogger(model_name+'/logs.csv', separator=',', append=True)\n",
        "reducelr = ReduceLROnPlateau(monitor='val_loss', factor=0.2, patience=5, min_lr=0.001)\n",
        "tensorboard = LRTensorBoard(log_dir='./'+model_name, histogram_freq=0, write_graph=True, write_grads=1, \n",
        "                            batch_size=batch_size, write_images=True)\n",
        "\n",
        "callbacks = [checkpoint, csvlogger, reducelr, tensorboard]"
      ],
      "execution_count": 0,
      "outputs": []
    },
    {
      "cell_type": "code",
      "metadata": {
        "hidden": true,
        "id": "LDQbPPwoY4sf",
        "colab_type": "code",
        "colab": {}
      },
      "source": [
        "# Create three generators again\n",
        "train_pre_processessed = data_generator(train_data, batch_size, 'norm')\n",
        "val_pre_processessed = data_generator(val_data, batch_size, 'norm')\n",
        "test_pre_processessed = data_generator(test_data, batch_size, 'norm')"
      ],
      "execution_count": 0,
      "outputs": []
    },
    {
      "cell_type": "code",
      "metadata": {
        "hidden": true,
        "id": "H_6me4wDY4sk",
        "colab_type": "code",
        "colab": {}
      },
      "source": [
        "hist_preprocessed = model_preprocessed.fit_generator(generator=train_pre_processessed, steps_per_epoch=int(len(train_data)/batch_size), \n",
        "                                           epochs=epochs, callbacks=callbacks, validation_data=val_pre_processessed,\n",
        "                                           validation_steps = int(len(val_data)/batch_size), validation_freq=1)\n",
        "all_histories.append(hist_preprocessed)"
      ],
      "execution_count": 0,
      "outputs": []
    },
    {
      "cell_type": "markdown",
      "metadata": {
        "id": "6tZtjlqQrN4G",
        "colab_type": "text"
      },
      "source": [
        "#### Preprocessed Analysis ####\n",
        "\n",
        "When comparing this to the base model, one thing was consistently noted. When the base model was kept simple, i.e no more than 2 layers at 10 x 20 filters, the preprocessed model shot up in accuracy a lot earlier. When the base model hit accuracies around 15% on the first epoch, the preprocessed model hit accuries close to 35% on the first epoch. However, in the overall picture, both models have almost the same accuracy. One thing to be noted is the sharply lower validation loss of the preprocessed model as the normalization of the model serves to reduce overfitting the model"
      ]
    },
    {
      "cell_type": "markdown",
      "metadata": {
        "id": "dMFTAsbWY4sm",
        "colab_type": "text"
      },
      "source": [
        "### Task 2.1 Pooling\n",
        "Now, you need to modify the model by adding pooling layer(s). Pooling could be average pooling or max pooling. You can use the size and stride for pooling of your choice. \n",
        "<br> \n",
        "Modify the network by introducing pooling layer and train the model using the __fit_generator__ function. "
      ]
    },
    {
      "cell_type": "code",
      "metadata": {
        "id": "0lbXfpkAY4sp",
        "colab_type": "code",
        "colab": {}
      },
      "source": [
        "model_name = 'model_pooling'\n",
        "\n",
        "input_img = Input(shape=(input_shape_cifar), name='input_img')\n",
        "hidden1 = Conv2D(32, kernel_size=(3,3), activation='relu', strides=(1,1))(input_img) # extract low level features\n",
        "pool1 = MaxPooling2D(pool_size=(2, 2))(hidden1) # pool from first convolved set\n",
        "hidden2 = Conv2D(64, kernel_size=(3,3), activation='relu', strides=(1,1))(pool1) # extract deeper features\n",
        "pool2 = MaxPooling2D(pool_size=(2, 2))(hidden2) # pool from second convolved \n",
        "hidden3 = Conv2D(64, kernel_size=(3,3), activation='relu', strides=(1,1))(pool2) # extract deeper features\n",
        "flatten = Flatten()(hidden3)\n",
        "output1 = Dense(64, activation='relu')(flatten)\n",
        "output = Dense(num_classes, activation='softmax')(output1)\n",
        "model_pooled = Model(inputs=input_img, outputs=output)\n",
        "\n",
        "if not os.path.exists('./'+model_name):\n",
        "    os.mkdir(model_name)"
      ],
      "execution_count": 0,
      "outputs": []
    },
    {
      "cell_type": "code",
      "metadata": {
        "id": "2etsnfFHY4sw",
        "colab_type": "code",
        "colab": {}
      },
      "source": [
        "adam = Adam(lr=0.001)\n",
        "model_pooled.compile(loss='categorical_crossentropy', \n",
        "              optimizer=adam, \n",
        "              metrics=['accuracy'])"
      ],
      "execution_count": 0,
      "outputs": []
    },
    {
      "cell_type": "code",
      "metadata": {
        "id": "24IJInqNY4s1",
        "colab_type": "code",
        "outputId": "2a35fb8f-82d5-4488-9c45-6d02072713f6",
        "colab": {
          "base_uri": "https://localhost:8080/",
          "height": 459
        }
      },
      "source": [
        "plot_model(model_pooled, model_name+'/'+model_name+'.png')\n",
        "model_pooled.summary()"
      ],
      "execution_count": 0,
      "outputs": [
        {
          "output_type": "stream",
          "text": [
            "Model: \"model_35\"\n",
            "_________________________________________________________________\n",
            "Layer (type)                 Output Shape              Param #   \n",
            "=================================================================\n",
            "input_img (InputLayer)       (None, 32, 32, 3)         0         \n",
            "_________________________________________________________________\n",
            "conv2d_91 (Conv2D)           (None, 30, 30, 32)        896       \n",
            "_________________________________________________________________\n",
            "max_pooling2d_23 (MaxPooling (None, 15, 15, 32)        0         \n",
            "_________________________________________________________________\n",
            "conv2d_92 (Conv2D)           (None, 13, 13, 64)        18496     \n",
            "_________________________________________________________________\n",
            "max_pooling2d_24 (MaxPooling (None, 6, 6, 64)          0         \n",
            "_________________________________________________________________\n",
            "conv2d_93 (Conv2D)           (None, 4, 4, 64)          36928     \n",
            "_________________________________________________________________\n",
            "flatten_35 (Flatten)         (None, 1024)              0         \n",
            "_________________________________________________________________\n",
            "dense_69 (Dense)             (None, 64)                65600     \n",
            "_________________________________________________________________\n",
            "dense_70 (Dense)             (None, 10)                650       \n",
            "=================================================================\n",
            "Total params: 122,570\n",
            "Trainable params: 122,570\n",
            "Non-trainable params: 0\n",
            "_________________________________________________________________\n"
          ],
          "name": "stdout"
        }
      ]
    },
    {
      "cell_type": "code",
      "metadata": {
        "id": "_UZ3n-5CY4s4",
        "colab_type": "code",
        "colab": {}
      },
      "source": [
        "# Add the following callbacks: ModelCheckpoint, CSVLogger\n",
        "checkpoint = ModelCheckpoint(model_name+'/'+model_name+'.h5', monitor='val_loss', verbose=1, \n",
        "                             save_best_only=True, mode='auto')\n",
        "csvlogger = CSVLogger(model_name+'/logs.csv', separator=',', append=True)\n",
        "tensorboard = LRTensorBoard(log_dir='./'+model_name, histogram_freq=0, write_graph=True, write_grads=1, \n",
        "                            batch_size=batch_size, write_images=True)\n",
        "\n",
        "callbacks = [checkpoint, csvlogger, tensorboard]"
      ],
      "execution_count": 0,
      "outputs": []
    },
    {
      "cell_type": "code",
      "metadata": {
        "id": "npQc0dbbY4s-",
        "colab_type": "code",
        "colab": {}
      },
      "source": [
        "# Create generators\n",
        "train_pool = data_generator(train_data, batch_size)\n",
        "val_pool = data_generator(val_data, batch_size)\n",
        "test_pool = data_generator(test_data, batch_size)"
      ],
      "execution_count": 0,
      "outputs": []
    },
    {
      "cell_type": "code",
      "metadata": {
        "scrolled": true,
        "id": "oVBerexaY4tB",
        "colab_type": "code",
        "colab": {}
      },
      "source": [
        "hist_pooled = model_pooled.fit_generator(generator=train_pool, steps_per_epoch=int(len(train_data)/batch_size), \n",
        "                                           epochs=epochs, callbacks=callbacks, validation_data=val_pool,\n",
        "                                           validation_steps = int(len(val_data)/batch_size), validation_freq=1)\n",
        "all_histories.append(hist_pooled)"
      ],
      "execution_count": 0,
      "outputs": []
    },
    {
      "cell_type": "markdown",
      "metadata": {
        "id": "RiGFopQLxC-B",
        "colab_type": "text"
      },
      "source": [
        "#### Pooling analysis ####\n",
        "\n",
        "The pooling model had some changes. Mainly, the number of strides taken by the convolution layers was reduced as the pooling layer was already decreasing the spatial size of the output. The pooling accuracy is also close the base model, with a higher validation accuracy and a lower validaiton loss. Since no preprocessing was used, the validation loss is still higher than the preprocessed model however by reducing the spacial size of the network, less features are being learnt, which counters the overfitted base model hence giving us a higher validation accuracy"
      ]
    },
    {
      "cell_type": "markdown",
      "metadata": {
        "id": "-qLPH33hY4tE",
        "colab_type": "text"
      },
      "source": [
        "### Task 3.1 Dropout\n",
        "Modify the network by introducing dropout layer(s) and train the model using the __fit_generator__ function. "
      ]
    },
    {
      "cell_type": "code",
      "metadata": {
        "id": "-KjPvyRJY4tF",
        "colab_type": "code",
        "colab": {}
      },
      "source": [
        "model_name = 'model_dropout'\n",
        "\n",
        "input_img = Input(shape=(input_shape_cifar), name='input_img')\n",
        "hidden1 = Conv2D(32, kernel_size=(3,3), activation='relu', strides=(1,1))(input_img) # extract low level features\n",
        "pool1 = MaxPooling2D(pool_size=(2, 2))(hidden1) # pool from first convolved set\n",
        "dropout1 = Dropout(rate=0.2)(pool1)\n",
        "\n",
        "hidden2 = Conv2D(64, kernel_size=(3,3), activation='relu', strides=(1,1))(dropout1) # extract deeper features\n",
        "pool2 = MaxPooling2D(pool_size=(2, 2))(hidden2) # pool from second convolved set\n",
        "dropout2 = Dropout(rate=0.2)(pool2)\n",
        "\n",
        "hidden3 = Conv2D(64, kernel_size=(3,3), activation='relu', strides=(1,1))(dropout2)\n",
        "\n",
        "flatten = Flatten()(hidden3)\n",
        "output1 = Dense(50, activation='relu')(flatten)\n",
        "\n",
        "output = Dense(num_classes, activation='softmax')(output1)\n",
        "model_dropout = Model(inputs=input_img, outputs=output)\n",
        "\n",
        "if not os.path.exists('./'+model_name):\n",
        "    os.mkdir(model_name)"
      ],
      "execution_count": 0,
      "outputs": []
    },
    {
      "cell_type": "code",
      "metadata": {
        "id": "a91uTMYLY4tI",
        "colab_type": "code",
        "colab": {}
      },
      "source": [
        "adam = Adam(lr=0.001)\n",
        "model_dropout.compile(loss='categorical_crossentropy',\n",
        "              optimizer=adam, \n",
        "              metrics=['accuracy'])"
      ],
      "execution_count": 0,
      "outputs": []
    },
    {
      "cell_type": "code",
      "metadata": {
        "id": "yPfRqgr4Y4tN",
        "colab_type": "code",
        "colab": {}
      },
      "source": [
        "plot_model(model_dropout, model_name+'/'+model_name+'.png')\n",
        "# model_dropout.summary()"
      ],
      "execution_count": 0,
      "outputs": []
    },
    {
      "cell_type": "code",
      "metadata": {
        "id": "L-OSEXncY4tV",
        "colab_type": "code",
        "colab": {}
      },
      "source": [
        "checkpoint = ModelCheckpoint(model_name+'/'+model_name+'.h5', monitor='val_loss', verbose=1, \n",
        "                             save_best_only=True, mode='auto')\n",
        "csvlogger = CSVLogger(model_name+'/logs.csv', separator=',', append=True)\n",
        "tensorboard = LRTensorBoard(log_dir='./'+model_name, histogram_freq=0, write_graph=True, write_grads=1, \n",
        "                            batch_size=batch_size, write_images=True)\n",
        "\n",
        "callbacks = [checkpoint, csvlogger, tensorboard]"
      ],
      "execution_count": 0,
      "outputs": []
    },
    {
      "cell_type": "code",
      "metadata": {
        "id": "azoBFHDcY4tZ",
        "colab_type": "code",
        "colab": {}
      },
      "source": [
        "# Create three Generators\n",
        "train_dropout = data_generator(train_data, batch_size)\n",
        "val_dropout = data_generator(val_data, batch_size)\n",
        "test_dropout = data_generator(test_data, batch_size)"
      ],
      "execution_count": 0,
      "outputs": []
    },
    {
      "cell_type": "code",
      "metadata": {
        "scrolled": true,
        "id": "2RyH50-aY4tb",
        "colab_type": "code",
        "colab": {}
      },
      "source": [
        "hist_dropout = model_dropout.fit_generator(generator=train_dropout, steps_per_epoch=int(len(train_data)/batch_size), \n",
        "                                           epochs=epochs, callbacks=callbacks, validation_data=val_dropout,\n",
        "                                           validation_steps = int(len(val_data)/batch_size), validation_freq=1)\n",
        "\n",
        "all_histories.append(hist_dropout)"
      ],
      "execution_count": 0,
      "outputs": []
    },
    {
      "cell_type": "markdown",
      "metadata": {
        "id": "fWu6ycJlmfqA",
        "colab_type": "text"
      },
      "source": [
        "#### Dropout Analysis ####\n",
        "The dropout model serves it's exact purpose; prevent overfitting. It gives us the lowest validation loss so far and the highest validation accuracy. This is because of dropping random connection in the network and making the network less complex. Several parameters were tested for the dropout layers, i.e where to place it, what to choose as the rate, and how many dropout layers to include. I tested with 3 dropout layers placed at different parts but since they were giving a very low accuracy (~10%), i dropped down to 2 dropout layers. They were placed after the Max Pooling layers since they counter the function of the pooling layers which place high dependancy on a small set of features. The dropout value was varied in the list [0.1, 0.2, 0.3, 0.5, 0.7]. With 0.2 giving the best validation loss and accuracy and higher dropout values subsequently performing worse, due to dropping too many features leading to the network not learning correctly."
      ]
    },
    {
      "cell_type": "markdown",
      "metadata": {
        "id": "85Jx9ZP-Y4te",
        "colab_type": "text"
      },
      "source": [
        "### Task 4.1 Batch Normalization\n",
        "Modify the network by introducing batch normalization layer(s) and train the model. "
      ]
    },
    {
      "cell_type": "code",
      "metadata": {
        "id": "KtpvhJOnY4th",
        "colab_type": "code",
        "colab": {}
      },
      "source": [
        "model_name = 'model_batch_normalized'\n",
        "if not os.path.exists('./'+model_name):\n",
        "    os.mkdir(model_name)"
      ],
      "execution_count": 0,
      "outputs": []
    },
    {
      "cell_type": "code",
      "metadata": {
        "id": "VbGE5M4cY4tr",
        "colab_type": "code",
        "colab": {}
      },
      "source": [
        "input_img = Input(shape=(input_shape_cifar), name='input_img')\n",
        "hidden1 = Conv2D(32, kernel_size=(3,3), activation='relu', strides=(1,1))(input_img) # extract low level features\n",
        "pool1 = MaxPooling2D(pool_size=(2, 2))(hidden1) # pool from first convolved set\n",
        "norm1 = BatchNormalization()(pool1)\n",
        "dropout1 = Dropout(rate=0.2)(norm1)\n",
        "\n",
        "\n",
        "hidden2 = Conv2D(64, kernel_size=(3,3), activation='relu', strides=(1,1))(dropout1) # extract deeper features\n",
        "pool2 = MaxPooling2D(pool_size=(2, 2))(hidden2) # pool from second convolved set\n",
        "norm2 = BatchNormalization()(pool2)\n",
        "dropout2 = Dropout(rate=0.2)(norm2)\n",
        "\n",
        "hidden3 = Conv2D(64, kernel_size=(3,3), activation='relu', strides=(1,1))(dropout2)\n",
        "\n",
        "flatten = Flatten()(hidden3)\n",
        "output1 = Dense(50, activation='relu')(flatten)\n",
        "\n",
        "output = Dense(num_classes, activation='softmax')(output1)\n",
        "model_normalized = Model(inputs=input_img, outputs=output)"
      ],
      "execution_count": 0,
      "outputs": []
    },
    {
      "cell_type": "code",
      "metadata": {
        "id": "ENQGiELCY4tx",
        "colab_type": "code",
        "colab": {}
      },
      "source": [
        "adam = Adam(lr=0.001)\n",
        "model_normalized.compile(loss='categorical_crossentropy', \n",
        "              optimizer=adam, \n",
        "              metrics=['accuracy'])"
      ],
      "execution_count": 0,
      "outputs": []
    },
    {
      "cell_type": "code",
      "metadata": {
        "id": "cw4HY-diY4t1",
        "colab_type": "code",
        "outputId": "bd29ad1a-1f9e-43f6-e82a-87eb8dcd15ec",
        "colab": {
          "base_uri": "https://localhost:8080/",
          "height": 595
        }
      },
      "source": [
        "plot_model(model_normalized, model_name+'/'+model_name+'.png')\n",
        "model_normalized.summary()"
      ],
      "execution_count": 0,
      "outputs": [
        {
          "output_type": "stream",
          "text": [
            "Model: \"model_38\"\n",
            "_________________________________________________________________\n",
            "Layer (type)                 Output Shape              Param #   \n",
            "=================================================================\n",
            "input_img (InputLayer)       (None, 32, 32, 3)         0         \n",
            "_________________________________________________________________\n",
            "conv2d_100 (Conv2D)          (None, 30, 30, 32)        896       \n",
            "_________________________________________________________________\n",
            "max_pooling2d_29 (MaxPooling (None, 15, 15, 32)        0         \n",
            "_________________________________________________________________\n",
            "dropout_11 (Dropout)         (None, 15, 15, 32)        0         \n",
            "_________________________________________________________________\n",
            "batch_normalization_3 (Batch (None, 15, 15, 32)        128       \n",
            "_________________________________________________________________\n",
            "conv2d_101 (Conv2D)          (None, 13, 13, 64)        18496     \n",
            "_________________________________________________________________\n",
            "max_pooling2d_30 (MaxPooling (None, 6, 6, 64)          0         \n",
            "_________________________________________________________________\n",
            "dropout_12 (Dropout)         (None, 6, 6, 64)          0         \n",
            "_________________________________________________________________\n",
            "batch_normalization_4 (Batch (None, 6, 6, 64)          256       \n",
            "_________________________________________________________________\n",
            "conv2d_102 (Conv2D)          (None, 4, 4, 64)          36928     \n",
            "_________________________________________________________________\n",
            "flatten_38 (Flatten)         (None, 1024)              0         \n",
            "_________________________________________________________________\n",
            "dense_75 (Dense)             (None, 50)                51250     \n",
            "_________________________________________________________________\n",
            "dense_76 (Dense)             (None, 10)                510       \n",
            "=================================================================\n",
            "Total params: 108,464\n",
            "Trainable params: 108,272\n",
            "Non-trainable params: 192\n",
            "_________________________________________________________________\n"
          ],
          "name": "stdout"
        }
      ]
    },
    {
      "cell_type": "code",
      "metadata": {
        "id": "XIL0jOAlY4t3",
        "colab_type": "code",
        "colab": {}
      },
      "source": [
        "# Add the following checkpoints: ModelCheckpoint, CSVLogger\n",
        "checkpoint = ModelCheckpoint(model_name+'/'+model_name+'.h5', monitor='val_loss', verbose=1, \n",
        "                             save_best_only=True, mode='auto')\n",
        "csvlogger = CSVLogger(model_name+'/logs.csv', separator=',', append=True)\n",
        "tensorboard = LRTensorBoard(log_dir='./'+model_name, histogram_freq=0, write_graph=True, write_grads=1, \n",
        "                            batch_size=batch_size, write_images=True)\n",
        "\n",
        "callbacks = [checkpoint, csvlogger, tensorboard]"
      ],
      "execution_count": 0,
      "outputs": []
    },
    {
      "cell_type": "code",
      "metadata": {
        "id": "Lgkwj5-TY4t-",
        "colab_type": "code",
        "colab": {}
      },
      "source": [
        "# Create three generators\n",
        "train_norm = data_generator(train_data, batch_size)\n",
        "val_norm = data_generator(val_data, batch_size)\n",
        "test_norm = data_generator(test_data, batch_size)"
      ],
      "execution_count": 0,
      "outputs": []
    },
    {
      "cell_type": "code",
      "metadata": {
        "scrolled": true,
        "id": "BqDXcs42Y4uA",
        "colab_type": "code",
        "colab": {}
      },
      "source": [
        "hist_normalized = model_normalized.fit_generator(generator=train_norm, steps_per_epoch=int(len(train_data)/batch_size), \n",
        "                                           epochs=epochs, callbacks=callbacks, validation_data=val_norm,\n",
        "                                           validation_steps = int(len(val_data)/batch_size), validation_freq=1)\n",
        "all_histories.append(hist_normalized)"
      ],
      "execution_count": 0,
      "outputs": []
    },
    {
      "cell_type": "markdown",
      "metadata": {
        "id": "sY7ifq-7qm2N",
        "colab_type": "text"
      },
      "source": [
        "#### Batch Normalization Analysis ####\n",
        "As batch normalization smoothens the gradient descent making the gradient more reliable and predictive, it is no wonder that it also gives us the best validation_loss and accuracy alongside the dropout model. Since there are several layers in this network, I placed the batchNormalization() function after the two series convolution + pooling layers in order to reduce the covariate shift after each section of feature selection. I left it out on the "
      ]
    },
    {
      "cell_type": "markdown",
      "metadata": {
        "id": "T_zrwfqzY4uG",
        "colab_type": "text"
      },
      "source": [
        "\n",
        "### Task 5.1 Comparison of all models\n",
        "In this task you need to plot the loss and accuracy for all models and __discuss__ which model has better performance and why do you think so."
      ]
    },
    {
      "cell_type": "code",
      "metadata": {
        "id": "i1J8CmRrY4uG",
        "colab_type": "code",
        "colab": {}
      },
      "source": [
        "# Plot accuracy of all models\n",
        "def plotHistory(histories, names, metric):\n",
        "    plt.clf() \n",
        "    x_axis = list(range(epochs))\n",
        "    for hist, name in zip(histories, names):\n",
        "        plt.plot(x_axis, hist.history[metric], label=metric+'_'+name)\n",
        "        plt.scatter(x_axis, hist.history[metric])\n",
        "    plt.legend()\n",
        "    plt.title(metric)\n",
        "    plt.show()"
      ],
      "execution_count": 0,
      "outputs": []
    },
    {
      "cell_type": "code",
      "metadata": {
        "id": "O9FQzLe3Y4uK",
        "colab_type": "code",
        "outputId": "902172cd-3ffa-405d-da34-f59a7d4133e2",
        "colab": {
          "base_uri": "https://localhost:8080/",
          "height": 1000
        }
      },
      "source": [
        "# Plot histories of all models\n",
        "names = ['Base', 'preprocessed', 'pooled', 'dropout', 'batch_normalized']\n",
        "plotHistory(all_histories, names, 'acc')\n",
        "plotHistory(all_histories, names, 'loss')\n",
        "plotHistory(all_histories, names, 'val_loss')\n",
        "plotHistory(all_histories, names, 'val_acc')"
      ],
      "execution_count": 0,
      "outputs": [
        {
          "output_type": "display_data",
          "data": {
            "image/png": "[encoded data removed]",
            "text/plain": [
              "<Figure size 576x396 with 1 Axes>"
            ]
          },
          "metadata": {
            "tags": []
          }
        },
        {
          "output_type": "display_data",
          "data": {
            "image/png": "[encoded data removed]",
            "text/plain": [
              "<Figure size 576x396 with 1 Axes>"
            ]
          },
          "metadata": {
            "tags": []
          }
        },
        {
          "output_type": "display_data",
          "data": {
            "image/png": "[encoded data removed]",
            "text/plain": [
              "<Figure size 576x396 with 1 Axes>"
            ]
          },
          "metadata": {
            "tags": []
          }
        },
        {
          "output_type": "display_data",
          "data": {
            "image/png": "[encoded data removed]",
            "text/plain": [
              "<Figure size 576x396 with 1 Axes>"
            ]
          },
          "metadata": {
            "tags": []
          }
        }
      ]
    },
    {
      "cell_type": "markdown",
      "metadata": {
        "id": "bULrK6B6Y4uS",
        "colab_type": "text"
      },
      "source": [
        "#### Tensorboard \n",
        "We will be covering Tensorboard in Friday's tutorial. You can complete this part after the tutorial (21st Feb 2020)"
      ]
    },
    {
      "cell_type": "markdown",
      "metadata": {
        "id": "-Yk23_QjY4uT",
        "colab_type": "text"
      },
      "source": [
        "You can run TensorBoard using the following command\n",
        "```tensorboard --logdir=path/to/log-directory```\n",
        "\n",
        "Now for logs of all above trained models, take snapshot of the _loss_ and _accuracy_ plots and save in the directory where this notebook is. To show that saved plot here in notebook use following command in _markdown_ cell. \n",
        "<br> __![](path_to_image)__"
      ]
    },
    {
      "cell_type": "code",
      "metadata": {
        "id": "0Y_kjKXlIrwu",
        "colab_type": "code",
        "colab": {}
      },
      "source": [
        "%load_ext tensorboard"
      ],
      "execution_count": 0,
      "outputs": []
    },
    {
      "cell_type": "code",
      "metadata": {
        "id": "W41iYyK7EQF2",
        "colab_type": "code",
        "colab": {}
      },
      "source": [
        "%tensorboard --logdir './base_model'"
      ],
      "execution_count": 0,
      "outputs": []
    },
    {
      "cell_type": "code",
      "metadata": {
        "id": "JnW72cJxJW5o",
        "colab_type": "code",
        "colab": {}
      },
      "source": [
        "%tensorboard --logdir './preprocessed_model'"
      ],
      "execution_count": 0,
      "outputs": []
    },
    {
      "cell_type": "code",
      "metadata": {
        "id": "TJ1-kuZtJjMl",
        "colab_type": "code",
        "colab": {}
      },
      "source": [
        "%tensorboard --logdir './model_pooling'"
      ],
      "execution_count": 0,
      "outputs": []
    },
    {
      "cell_type": "code",
      "metadata": {
        "id": "1SY5Fs68JxB9",
        "colab_type": "code",
        "colab": {}
      },
      "source": [
        "%tensorboard --logdir './model_dropout'"
      ],
      "execution_count": 0,
      "outputs": []
    },
    {
      "cell_type": "code",
      "metadata": {
        "id": "Kuf5nfYIJ6-e",
        "colab_type": "code",
        "colab": {}
      },
      "source": [
        "%tensorboard --logdir './model_batch_normalized'"
      ],
      "execution_count": 0,
      "outputs": []
    },
    {
      "cell_type": "markdown",
      "metadata": {
        "id": "upZTUxIMY4uV",
        "colab_type": "text"
      },
      "source": [
        "### Analysis ### "
      ]
    },
    {
      "cell_type": "markdown",
      "metadata": {
        "id": "23Mhyr1UY4uX",
        "colab_type": "text"
      },
      "source": [
        "\n",
        "\n",
        "*   Starting off, let us compare the accuracy and the loss of all the models. We see that they follow the same order. With the overfitted base model giving the highest accuracy and lowest loss. Following that is the pooling model, which by reducing the spacial size of the network and removing some features, makes the network more true in it's fitting but still giving a high accuracy. The preprocessed and batch normalized model both counter the overfitting by normalizing the model and the lowest accuracy comes from the dropout model which reduces the feature space being learnt by the model, hence reducing accuracy\n",
        "* The validation accuracy and loss give a more wholistic view which models actually seem to be performing well. Over here, the base model performs the worst since it has been overfit and cannot correctly clasify the newer images. Conversely the dropout model performs the best, alongside the batchNorm model which also makes use of dropouts. These two give the best validation accuracy and loss as they prevent the network from being overfitted.\n",
        "* The batch normalization model also shows the most variance in it's accuracy as it starts out with the highest first epoch accuracy but fluctuates a lot throughout the training process\n",
        "* The model chosen by me, as the best one, is the dropout model, as it not only gives the highest validation accuracy but also keeps the validation accuracy very close to the training accuracy.\n",
        "\n",
        "\n",
        "\n"
      ]
    },
    {
      "cell_type": "markdown",
      "metadata": {
        "id": "GsWqYgG5Y4uX",
        "colab_type": "text"
      },
      "source": [
        "### Task 5.2 Visualize Activations\n",
        "We will be covering this in Friday's tutorial. You can complete this part after the tutorial (21st Feb 2020). In this task, you are required to visualize the activations (outputs) of both the convolution layers of a model."
      ]
    },
    {
      "cell_type": "code",
      "metadata": {
        "id": "roFEwUQKY4uY",
        "colab_type": "code",
        "outputId": "9569dec2-32c8-4197-b124-346d2d7d0c95",
        "colab": {
          "base_uri": "https://localhost:8080/",
          "height": 364
        }
      },
      "source": [
        "# Load any image here\n",
        "test_image = get_image('./images/cifar/train/88_truck.png')\n",
        "\n",
        "plt.imshow(test_image)"
      ],
      "execution_count": 0,
      "outputs": [
        {
          "output_type": "execute_result",
          "data": {
            "text/plain": [
              "<matplotlib.image.AxesImage at 0x7f8e88ab6e10>"
            ]
          },
          "metadata": {
            "tags": []
          },
          "execution_count": 281
        },
        {
          "output_type": "display_data",
          "data": {
            "image/png": "[encoded data removed]",
            "text/plain": [
              "<Figure size 576x396 with 1 Axes>"
            ]
          },
          "metadata": {
            "tags": []
          }
        }
      ]
    },
    {
      "cell_type": "code",
      "metadata": {
        "id": "KudNnAYSY4ud",
        "colab_type": "code",
        "outputId": "80c0e667-d407-49bb-cca0-c6d5f69688ba",
        "colab": {
          "base_uri": "https://localhost:8080/",
          "height": 368
        }
      },
      "source": [
        "plt.gca().grid(False);\n",
        "\n",
        "test_reshaped = test_image.reshape((1,32,32,3))\n",
        "\n",
        "# Get a prediction from ANY ONE of your models and output its label\n",
        "model_dropout.predict(test_reshaped).argmax(axis=1)"
      ],
      "execution_count": 0,
      "outputs": [
        {
          "output_type": "execute_result",
          "data": {
            "text/plain": [
              "array([9])"
            ]
          },
          "metadata": {
            "tags": []
          },
          "execution_count": 283
        },
        {
          "output_type": "display_data",
          "data": {
            "image/png": "[encoded data removed]",
            "text/plain": [
              "<Figure size 576x396 with 1 Axes>"
            ]
          },
          "metadata": {
            "tags": []
          }
        }
      ]
    },
    {
      "cell_type": "code",
      "metadata": {
        "id": "-LAM00MWY4ug",
        "colab_type": "code",
        "colab": {}
      },
      "source": [
        "# Create a Model from the Input layer to a Convolutional Layer\n",
        "new_model = Model(inputs = model_dropout.get_layer('input_img').output,\n",
        "                  outputs = model_dropout.get_layer('conv2d_97').output)"
      ],
      "execution_count": 0,
      "outputs": []
    },
    {
      "cell_type": "code",
      "metadata": {
        "id": "Yve8bcWyY4ui",
        "colab_type": "code",
        "colab": {}
      },
      "source": [
        "# Get a prediction for your chosen image using this model\n",
        "predicted_activations = new_model.predict(test_reshaped)"
      ],
      "execution_count": 0,
      "outputs": []
    },
    {
      "cell_type": "code",
      "metadata": {
        "id": "7Bzh0bB2Y4ul",
        "colab_type": "code",
        "outputId": "2674314a-0a31-46a8-ff4e-4c050c7dca5b",
        "colab": {
          "base_uri": "https://localhost:8080/",
          "height": 1000
        }
      },
      "source": [
        "# Use your predictions to visualise the activations\n",
        "fig, axes = plt.subplots(nrows=8, ncols=4, figsize=(15,20), dpi=80)\n",
        "\n",
        "for i,ax in enumerate(axes.flatten()):\n",
        "    ax.imshow(predicted_activations[0,:,:,i]);\n",
        "    ax.grid(False);\n",
        "    ax.axis('off');"
      ],
      "execution_count": 0,
      "outputs": [
        {
          "output_type": "display_data",
          "data": {
            "image/png": "[encoded data removed]",
            "text/plain": [
              "<Figure size 1200x1600 with 32 Axes>"
            ]
          },
          "metadata": {
            "tags": []
          }
        }
      ]
    },
    {
      "cell_type": "code",
      "metadata": {
        "id": "mA_eEhf2Y4ur",
        "colab_type": "code",
        "colab": {}
      },
      "source": [
        "# Create another model to visualize activations from ANOTHER convolutional layer\n",
        "second_model = Model(inputs = model_dropout.get_layer('input_img').output,\n",
        "                  outputs = model_dropout.get_layer('conv2d_98').output)"
      ],
      "execution_count": 0,
      "outputs": []
    },
    {
      "cell_type": "code",
      "metadata": {
        "id": "jy3vn4HtY4uu",
        "colab_type": "code",
        "colab": {}
      },
      "source": [
        "# You may rename this variable\n",
        "second_predicted_activations = second_model.predict(test_reshaped)"
      ],
      "execution_count": 0,
      "outputs": []
    },
    {
      "cell_type": "code",
      "metadata": {
        "id": "GxTwqGRaY4ux",
        "colab_type": "code",
        "outputId": "2ac214ea-14ef-4c7b-cb38-492fbfc2e2f7",
        "colab": {
          "base_uri": "https://localhost:8080/",
          "height": 939
        }
      },
      "source": [
        "fig, axes = plt.subplots(nrows=4, ncols=4, figsize=(15,15), dpi=80)\n",
        "for i,ax in enumerate(axes.flatten()):\n",
        "    ax.imshow(second_predicted_activations[0,:,:,i]);\n",
        "    ax.grid(False);\n",
        "    ax.axis('off');"
      ],
      "execution_count": 0,
      "outputs": [
        {
          "output_type": "display_data",
          "data": {
            "image/png": "[encoded data removed]",
            "text/plain": [
              "<Figure size 1200x1200 with 16 Axes>"
            ]
          },
          "metadata": {
            "tags": []
          }
        }
      ]
    },
    {
      "cell_type": "markdown",
      "metadata": {
        "id": "-2d75G2kY4uz",
        "colab_type": "text"
      },
      "source": [
        "Q) What features from your chosen image do you think your model has been able to learn? In terms of filters (weights), what goes on when we add more convolutional layers in our models?\n",
        "\n",
        "A) The first convolution layer was able to learn some vertical and horizontal edges. The later convolution layers only identified some pixel patters. As the number of convolution layers increases and the spacial size of the image decreases, the network filters start identifying deeper features of the image. In this case, since the image is so small, the later convolution layers only go on to identify some pixel patterns and look at smaller and smaller spaces."
      ]
    },
    {
      "cell_type": "markdown",
      "metadata": {
        "heading_collapsed": true,
        "id": "6G95Ub50Y4uz",
        "colab_type": "text"
      },
      "source": [
        "### Task 6.1  Effect of learning rate\n",
        "Take the best selected model in __Task 5.1__ and change its learning rate to: \n",
        "- 6.1.1 any value between 5 and 1.\n",
        "- 6.1.2 learning rate = any value between 0.6 and  0.1 \n",
        "- 6.1.3 learning rate = 0.00001\n",
        "\n",
        "and train these three models to compare the effect learning rate."
      ]
    },
    {
      "cell_type": "code",
      "metadata": {
        "id": "5ToZKID1Vl46",
        "colab_type": "code",
        "colab": {}
      },
      "source": [
        "learning_rate_hist = []"
      ],
      "execution_count": 0,
      "outputs": []
    },
    {
      "cell_type": "code",
      "metadata": {
        "hidden": true,
        "id": "-m-58gCtY4u0",
        "colab_type": "code",
        "outputId": "3e5f0aca-497b-40ab-bdb5-9bbf7a067e8c",
        "colab": {
          "base_uri": "https://localhost:8080/",
          "height": 1000
        }
      },
      "source": [
        "# Use code provided in previous tasks\n",
        "model_name = 'model_dropout_' + str(0.00001)\n",
        "\n",
        "input_img = Input(shape=(input_shape_cifar), name='input_img')\n",
        "hidden1 = Conv2D(32, kernel_size=(3,3), activation='relu', strides=(1,1))(input_img) # extract low level features\n",
        "pool1 = MaxPooling2D(pool_size=(2, 2))(hidden1) # pool from first convolved set\n",
        "dropout1 = Dropout(rate=0.2)(pool1)\n",
        "\n",
        "hidden2 = Conv2D(64, kernel_size=(3,3), activation='relu', strides=(1,1))(dropout1) # extract deeper features\n",
        "pool2 = MaxPooling2D(pool_size=(2, 2))(hidden2) # pool from second convolved set\n",
        "dropout2 = Dropout(rate=0.2)(pool2)\n",
        "\n",
        "hidden3 = Conv2D(64, kernel_size=(3,3), activation='relu', strides=(1,1))(dropout2)\n",
        "\n",
        "flatten = Flatten()(hidden3)\n",
        "output1 = Dense(50, activation='relu')(flatten)\n",
        "\n",
        "output = Dense(num_classes, activation='softmax')(output1)\n",
        "model_dropout_lr = Model(inputs=input_img, outputs=output)\n",
        "\n",
        "if not os.path.exists('./'+model_name):\n",
        "    os.mkdir(model_name)\n",
        "\n",
        "adam = Adam(lr=0.00001)\n",
        "model_dropout_lr.compile(loss='categorical_crossentropy', \n",
        "                optimizer=adam, \n",
        "                metrics=['accuracy'])\n",
        "\n",
        "checkpoint = ModelCheckpoint(model_name+'/'+model_name+'.h5', \n",
        "                                monitor='val_loss', verbose=1, save_best_only=True, mode='auto')\n",
        "cvslogger = CSVLogger(model_name+'/logs.csv', separator=',', append=True)\n",
        "tensorboard = LRTensorBoard(log_dir='./'+model_name, histogram_freq=0, write_graph=True, write_grads=1, \n",
        "                            batch_size=batch_size, write_images=True)\n",
        "\n",
        "callbacks = [checkpoint, tensorboard, cvslogger]\n",
        "\n",
        "train_dropout = data_generator(train_data, batch_size)\n",
        "val_dropout = data_generator(val_data, batch_size)\n",
        "test_dropout = data_generator(test_data, batch_size)\n",
        "\n",
        "hist = model_dropout_lr.fit_generator(generator=train_dropout, steps_per_epoch=int(len(train_data)/batch_size), \n",
        "                                           epochs=epochs, callbacks=callbacks, validation_data=val_dropout,\n",
        "                                           validation_steps = int(len(val_data)/batch_size), validation_freq=1)\n",
        "learning_rate_hist.append(hist)\n",
        "    "
      ],
      "execution_count": 0,
      "outputs": [
        {
          "output_type": "stream",
          "text": [
            "Epoch 1/25\n",
            "625/625 [==============================] - 8s 12ms/step - loss: 13.0620 - acc: 0.1120 - val_loss: 8.2244 - val_acc: 0.1394\n",
            "\n",
            "Epoch 00001: val_loss improved from inf to 8.22439, saving model to model_dropout_1e-05/model_dropout_1e-05.h5\n",
            "Epoch 2/25\n",
            "625/625 [==============================] - 7s 11ms/step - loss: 10.6441 - acc: 0.1239 - val_loss: 4.9013 - val_acc: 0.1537\n",
            "\n",
            "Epoch 00002: val_loss improved from 8.22439 to 4.90130, saving model to model_dropout_1e-05/model_dropout_1e-05.h5\n",
            "Epoch 3/25\n",
            "625/625 [==============================] - 7s 11ms/step - loss: 5.8878 - acc: 0.1286 - val_loss: 2.5600 - val_acc: 0.1123\n",
            "\n",
            "Epoch 00003: val_loss improved from 4.90130 to 2.55996, saving model to model_dropout_1e-05/model_dropout_1e-05.h5\n",
            "Epoch 4/25\n",
            "625/625 [==============================] - 7s 11ms/step - loss: 3.0047 - acc: 0.1138 - val_loss: 2.3025 - val_acc: 0.1026\n",
            "\n",
            "Epoch 00004: val_loss improved from 2.55996 to 2.30247, saving model to model_dropout_1e-05/model_dropout_1e-05.h5\n",
            "Epoch 5/25\n",
            "625/625 [==============================] - 7s 11ms/step - loss: 2.3676 - acc: 0.1007 - val_loss: 2.3027 - val_acc: 0.1020\n",
            "\n",
            "Epoch 00005: val_loss did not improve from 2.30247\n",
            "Epoch 6/25\n",
            "625/625 [==============================] - 7s 11ms/step - loss: 2.3159 - acc: 0.0992 - val_loss: 2.3025 - val_acc: 0.1021\n",
            "\n",
            "Epoch 00006: val_loss did not improve from 2.30247\n",
            "Epoch 7/25\n",
            "625/625 [==============================] - 7s 11ms/step - loss: 2.3085 - acc: 0.0982 - val_loss: 2.3025 - val_acc: 0.1018\n",
            "\n",
            "Epoch 00007: val_loss did not improve from 2.30247\n",
            "Epoch 8/25\n",
            "625/625 [==============================] - 7s 11ms/step - loss: 2.3045 - acc: 0.1004 - val_loss: 2.3025 - val_acc: 0.1019\n",
            "\n",
            "Epoch 00008: val_loss did not improve from 2.30247\n",
            "Epoch 9/25\n",
            "625/625 [==============================] - 7s 11ms/step - loss: 2.3029 - acc: 0.0996 - val_loss: 2.3025 - val_acc: 0.1024\n",
            "\n",
            "Epoch 00009: val_loss improved from 2.30247 to 2.30246, saving model to model_dropout_1e-05/model_dropout_1e-05.h5\n",
            "Epoch 10/25\n",
            "625/625 [==============================] - 7s 11ms/step - loss: 2.3028 - acc: 0.0995 - val_loss: 2.3025 - val_acc: 0.1021\n",
            "\n",
            "Epoch 00010: val_loss improved from 2.30246 to 2.30246, saving model to model_dropout_1e-05/model_dropout_1e-05.h5\n",
            "Epoch 11/25\n",
            "625/625 [==============================] - 7s 11ms/step - loss: 2.2990 - acc: 0.1020 - val_loss: 2.3020 - val_acc: 0.1030\n",
            "\n",
            "Epoch 00011: val_loss improved from 2.30246 to 2.30201, saving model to model_dropout_1e-05/model_dropout_1e-05.h5\n",
            "Epoch 12/25\n",
            "625/625 [==============================] - 7s 11ms/step - loss: 2.2965 - acc: 0.1069 - val_loss: 2.3008 - val_acc: 0.1062\n",
            "\n",
            "Epoch 00012: val_loss improved from 2.30201 to 2.30079, saving model to model_dropout_1e-05/model_dropout_1e-05.h5\n",
            "Epoch 13/25\n",
            "625/625 [==============================] - 7s 11ms/step - loss: 2.2901 - acc: 0.1127 - val_loss: 2.2967 - val_acc: 0.1157\n",
            "\n",
            "Epoch 00013: val_loss improved from 2.30079 to 2.29670, saving model to model_dropout_1e-05/model_dropout_1e-05.h5\n",
            "Epoch 14/25\n",
            "625/625 [==============================] - 7s 11ms/step - loss: 2.2858 - acc: 0.1402 - val_loss: 2.2930 - val_acc: 0.1216\n",
            "\n",
            "Epoch 00014: val_loss improved from 2.29670 to 2.29295, saving model to model_dropout_1e-05/model_dropout_1e-05.h5\n",
            "Epoch 15/25\n",
            "625/625 [==============================] - 7s 11ms/step - loss: 2.2774 - acc: 0.1484 - val_loss: 2.2800 - val_acc: 0.1414\n",
            "\n",
            "Epoch 00015: val_loss improved from 2.29295 to 2.27997, saving model to model_dropout_1e-05/model_dropout_1e-05.h5\n",
            "Epoch 16/25\n",
            "625/625 [==============================] - 7s 11ms/step - loss: 2.2704 - acc: 0.1562 - val_loss: 2.2652 - val_acc: 0.1571\n",
            "\n",
            "Epoch 00016: val_loss improved from 2.27997 to 2.26522, saving model to model_dropout_1e-05/model_dropout_1e-05.h5\n",
            "Epoch 17/25\n",
            "625/625 [==============================] - 7s 11ms/step - loss: 2.2606 - acc: 0.1614 - val_loss: 2.2580 - val_acc: 0.1628\n",
            "\n",
            "Epoch 00017: val_loss improved from 2.26522 to 2.25802, saving model to model_dropout_1e-05/model_dropout_1e-05.h5\n",
            "Epoch 18/25\n",
            "625/625 [==============================] - 7s 11ms/step - loss: 2.2398 - acc: 0.1600 - val_loss: 2.2074 - val_acc: 0.1729\n",
            "\n",
            "Epoch 00018: val_loss improved from 2.25802 to 2.20737, saving model to model_dropout_1e-05/model_dropout_1e-05.h5\n",
            "Epoch 19/25\n",
            "625/625 [==============================] - 7s 11ms/step - loss: 2.1966 - acc: 0.1675 - val_loss: 2.1441 - val_acc: 0.1930\n",
            "\n",
            "Epoch 00019: val_loss improved from 2.20737 to 2.14407, saving model to model_dropout_1e-05/model_dropout_1e-05.h5\n",
            "Epoch 20/25\n",
            "625/625 [==============================] - 7s 11ms/step - loss: 2.1405 - acc: 0.1873 - val_loss: 2.0907 - val_acc: 0.2089\n",
            "\n",
            "Epoch 00020: val_loss improved from 2.14407 to 2.09069, saving model to model_dropout_1e-05/model_dropout_1e-05.h5\n",
            "Epoch 21/25\n",
            "625/625 [==============================] - 7s 11ms/step - loss: 2.0967 - acc: 0.2011 - val_loss: 2.0547 - val_acc: 0.2208\n",
            "\n",
            "Epoch 00021: val_loss improved from 2.09069 to 2.05467, saving model to model_dropout_1e-05/model_dropout_1e-05.h5\n",
            "Epoch 22/25\n",
            "625/625 [==============================] - 7s 11ms/step - loss: 2.0585 - acc: 0.2141 - val_loss: 2.0159 - val_acc: 0.2375\n",
            "\n",
            "Epoch 00022: val_loss improved from 2.05467 to 2.01589, saving model to model_dropout_1e-05/model_dropout_1e-05.h5\n",
            "Epoch 23/25\n",
            "625/625 [==============================] - 7s 12ms/step - loss: 2.0173 - acc: 0.2336 - val_loss: 1.9825 - val_acc: 0.2453\n",
            "\n",
            "Epoch 00023: val_loss improved from 2.01589 to 1.98254, saving model to model_dropout_1e-05/model_dropout_1e-05.h5\n",
            "Epoch 24/25\n",
            "625/625 [==============================] - 7s 11ms/step - loss: 1.9829 - acc: 0.2438 - val_loss: 1.9419 - val_acc: 0.2645\n",
            "\n",
            "Epoch 00024: val_loss improved from 1.98254 to 1.94185, saving model to model_dropout_1e-05/model_dropout_1e-05.h5\n",
            "Epoch 25/25\n",
            "625/625 [==============================] - 7s 11ms/step - loss: 1.9538 - acc: 0.2545 - val_loss: 1.9172 - val_acc: 0.2762\n",
            "\n",
            "Epoch 00025: val_loss improved from 1.94185 to 1.91723, saving model to model_dropout_1e-05/model_dropout_1e-05.h5\n"
          ],
          "name": "stdout"
        }
      ]
    },
    {
      "cell_type": "markdown",
      "metadata": {
        "id": "NjjOk_JZY4u8",
        "colab_type": "text"
      },
      "source": [
        "### Task 6.2 Plot loss and accuracy\n",
        "Plot the loss and accracy for best model selected in task 5.1, and model trained in 6.1.1, 6.1.2 and 6.1.3 task. Give the detailed analysis of the effect of learning rate in your words and select the best learning rate for this problem."
      ]
    },
    {
      "cell_type": "code",
      "metadata": {
        "id": "zH_awwo_Y4u9",
        "colab_type": "code",
        "outputId": "1aa49b0f-5dd7-4013-9487-7838880e9bd5",
        "colab": {
          "base_uri": "https://localhost:8080/",
          "height": 707
        }
      },
      "source": [
        "# Use plotHistory to make these plots\n",
        "names = ['3', '0.3', '0.00001']\n",
        "plotHistory(learning_rate_hist, names, 'acc')\n",
        "plotHistory(learning_rate_hist, names, 'loss')"
      ],
      "execution_count": 0,
      "outputs": [
        {
          "output_type": "display_data",
          "data": {
            "image/png": "[encoded data removed]",
            "text/plain": [
              "<Figure size 576x396 with 1 Axes>"
            ]
          },
          "metadata": {
            "tags": []
          }
        },
        {
          "output_type": "display_data",
          "data": {
            "image/png": "[encoded data removed]",
            "text/plain": [
              "<Figure size 576x396 with 1 Axes>"
            ]
          },
          "metadata": {
            "tags": []
          }
        }
      ]
    },
    {
      "cell_type": "markdown",
      "metadata": {
        "id": "wpbMJkb1Y4vB",
        "colab_type": "text"
      },
      "source": [
        "Analysis: We can see that both, 3 and 0.3 are too high for learning rates. This is leading to the steps being too large and hence the weights are being changed very drastically, with no convergance happening. When choosing a learning rate of 0.00001, we see a lot of improvement, but this is only relative. The maximum accuracy reached was around 26%, perhaps if the network was trained for more epochs (~100), we would see the accuracy rise to a respectable amount but currently it is too small to make a significant impact. perhaps if we tested with a more diverse range i.e including 0.01, 0.001 and 0.0001, then we could see a trend for the best performing LR."
      ]
    }
  ]
}